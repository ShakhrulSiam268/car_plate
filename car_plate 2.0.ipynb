{
 "cells": [
  {
   "cell_type": "code",
   "execution_count": 1,
   "metadata": {},
   "outputs": [],
   "source": [
    "import cv2\n",
    "import time\n",
    "import pytesseract\n",
    "import easyocr\n",
    "from custom_utils import *\n",
    "pytesseract.pytesseract.tesseract_cmd = r\"C:\\Program Files\\Tesseract-OCR\\tesseract.exe\"\n",
    "\n",
    "# C:\\Users\\User\\AppData\\Roaming\\Python\\Python38\\site-packages\\easyocr\\dict"
   ]
  },
  {
   "cell_type": "code",
   "execution_count": 2,
   "metadata": {},
   "outputs": [],
   "source": [
    "source='./test/car4.jpg'\n",
    "model_path='detection_best.pt'\n",
    "\n",
    "img0= cv2.imread(source)\n",
    "detected,cropped=decode_image(img0,model_path)\n",
    "small_frame = cv2.resize(detected, (0, 0), fx=0.5, fy=0.5)\n",
    "\n",
    "show_image(small_frame)"
   ]
  },
  {
   "cell_type": "code",
   "execution_count": 15,
   "metadata": {},
   "outputs": [],
   "source": [
    "gray = cv2.cvtColor(cropped, cv2.COLOR_BGR2GRAY)\n",
    "adaptive_threshold = cv2.adaptiveThreshold(gray, 255, cv2.ADAPTIVE_THRESH_GAUSSIAN_C, cv2.THRESH_BINARY, 85, 11)\n",
    "#adaptive_threshold=cv2.equalizeHist(adaptive_threshold)\n",
    "show_image(adaptive_threshold)"
   ]
  },
  {
   "cell_type": "code",
   "execution_count": 3,
   "metadata": {},
   "outputs": [
    {
     "name": "stderr",
     "output_type": "stream",
     "text": [
      "CUDA not available - defaulting to CPU. Note: This module is much faster with a GPU.\n"
     ]
    },
    {
     "name": "stdout",
     "output_type": "stream",
     "text": [
      "ঢাকা মেডট্রো ১৭-৪১১৯\n"
     ]
    }
   ],
   "source": [
    "reader = easyocr.Reader(['bn'])\n",
    "result = reader.readtext(cropped,paragraph=\"False\")\n",
    "try:\n",
    "    text=result[0][1]\n",
    "except:\n",
    "    text='unable to detect'\n",
    "print(text)\n",
    "show_image(cropped)"
   ]
  },
  {
   "cell_type": "code",
   "execution_count": 17,
   "metadata": {},
   "outputs": [
    {
     "name": "stderr",
     "output_type": "stream",
     "text": [
      "CUDA not available - defaulting to CPU. Note: This module is much faster with a GPU.\n"
     ]
    },
    {
     "name": "stdout",
     "output_type": "stream",
     "text": [
      "ঢাকা মেট্রো-গ ১৭-৪১১৯\n"
     ]
    }
   ],
   "source": [
    "reader = easyocr.Reader(['bn'])\n",
    "result = reader.readtext(gray,paragraph=\"True\")\n",
    "try:\n",
    "    text=result[0][1]\n",
    "except:\n",
    "    text='unable to detect'\n",
    "print(text)\n",
    "show_image(cropped)"
   ]
  },
  {
   "cell_type": "code",
   "execution_count": 5,
   "metadata": {},
   "outputs": [
    {
     "data": {
      "text/plain": [
       "'ঢাকা মেডট্রো ১৭-৪১১৯'"
      ]
     },
     "execution_count": 5,
     "metadata": {},
     "output_type": "execute_result"
    }
   ],
   "source": [
    "text"
   ]
  },
  {
   "cell_type": "code",
   "execution_count": 7,
   "metadata": {},
   "outputs": [
    {
     "data": {
      "text/plain": [
       "['ঢাকা', 'মেডট্রো', '১৭-৪১১৯']"
      ]
     },
     "execution_count": 7,
     "metadata": {},
     "output_type": "execute_result"
    }
   ],
   "source": [
    "tt=text.split(' ')\n",
    "tt"
   ]
  },
  {
   "cell_type": "code",
   "execution_count": 8,
   "metadata": {},
   "outputs": [
    {
     "data": {
      "text/plain": [
       "7"
      ]
     },
     "execution_count": 8,
     "metadata": {},
     "output_type": "execute_result"
    }
   ],
   "source": [
    "td=tt[2]\n",
    "len(td)"
   ]
  },
  {
   "cell_type": "code",
   "execution_count": 9,
   "metadata": {},
   "outputs": [
    {
     "data": {
      "text/plain": [
       "['১৭', '৪১১৯']"
      ]
     },
     "execution_count": 9,
     "metadata": {},
     "output_type": "execute_result"
    }
   ],
   "source": [
    "td.split('-')"
   ]
  },
  {
   "cell_type": "code",
   "execution_count": null,
   "metadata": {},
   "outputs": [],
   "source": []
  }
 ],
 "metadata": {
  "kernelspec": {
   "display_name": "Python (yolov)",
   "language": "python",
   "name": "yolov5"
  },
  "language_info": {
   "codemirror_mode": {
    "name": "ipython",
    "version": 3
   },
   "file_extension": ".py",
   "mimetype": "text/x-python",
   "name": "python",
   "nbconvert_exporter": "python",
   "pygments_lexer": "ipython3",
   "version": "3.8.0"
  }
 },
 "nbformat": 4,
 "nbformat_minor": 2
}
