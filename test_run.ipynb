{
 "cells": [
  {
   "cell_type": "code",
   "execution_count": 42,
   "metadata": {},
   "outputs": [],
   "source": [
    "import cv2\n",
    "import pytesseract\n",
    "import numpy as np\n",
    "#import easyocr\n",
    "pytesseract.pytesseract.tesseract_cmd = r\"C:\\Program Files\\Tesseract-OCR\\tesseract.exe\""
   ]
  },
  {
   "cell_type": "code",
   "execution_count": 1,
   "metadata": {},
   "outputs": [],
   "source": [
    "def show_image(img):\n",
    "    cv2.imshow('Detected_Frame',img)\n",
    "    cv2.waitKey(0)\n",
    "    cv2.destroyAllWindows()"
   ]
  },
  {
   "cell_type": "code",
   "execution_count": 28,
   "metadata": {},
   "outputs": [],
   "source": [
    "source='./test/car3.jpg'\n",
    "\n",
    "img0= cv2.imread(source)\n",
    "small_frame = cv2.resize(img0, (0, 0), fx=0.5, fy=0.5)\n",
    "\n",
    "show_image(small_frame)"
   ]
  },
  {
   "cell_type": "code",
   "execution_count": 29,
   "metadata": {},
   "outputs": [],
   "source": [
    "gray = cv2.cvtColor(img0, cv2.COLOR_BGR2GRAY)\n",
    "adaptive_threshold = cv2.adaptiveThreshold(gray, 255, cv2.ADAPTIVE_THRESH_GAUSSIAN_C, cv2.THRESH_BINARY, 85, 11)\n",
    "#adaptive_threshold=cv2.equalizeHist(adaptive_threshold)\n",
    "show_image(adaptive_threshold)"
   ]
  },
  {
   "cell_type": "code",
   "execution_count": 31,
   "metadata": {},
   "outputs": [
    {
     "name": "stdout",
     "output_type": "stream",
     "text": [
      "ঢাকা মেডট্রো-গ\n",
      "১৫-০৫৬৮\n",
      "\f",
      "\n"
     ]
    }
   ],
   "source": [
    "text = pytesseract.image_to_string(adaptive_threshold, lang='bengali',config='--psm 3')\n",
    "print(text)"
   ]
  },
  {
   "cell_type": "code",
   "execution_count": 35,
   "metadata": {},
   "outputs": [
    {
     "data": {
      "text/plain": [
       "array([[[  0, 255,   0],\n",
       "        [  0, 255,   0],\n",
       "        [  0, 255,   0],\n",
       "        ...,\n",
       "        [  0, 255,   0],\n",
       "        [  0, 255,   0],\n",
       "        [  0, 255,   0]],\n",
       "\n",
       "       [[  0, 255,   0],\n",
       "        [235, 221, 209],\n",
       "        [226, 212, 200],\n",
       "        ...,\n",
       "        [  0, 255,   0],\n",
       "        [  0, 255,   0],\n",
       "        [  0, 255,   0]],\n",
       "\n",
       "       [[  0, 255,   0],\n",
       "        [233, 216, 195],\n",
       "        [229, 213, 190],\n",
       "        ...,\n",
       "        [210, 196, 174],\n",
       "        [213, 198, 179],\n",
       "        [213, 198, 179]],\n",
       "\n",
       "       ...,\n",
       "\n",
       "       [[  0, 255,   0],\n",
       "        [196, 193, 189],\n",
       "        [196, 193, 189],\n",
       "        ...,\n",
       "        [185, 188, 179],\n",
       "        [185, 187, 181],\n",
       "        [  0, 255,   0]],\n",
       "\n",
       "       [[  0, 255,   0],\n",
       "        [197, 193, 188],\n",
       "        [196, 192, 187],\n",
       "        ...,\n",
       "        [183, 188, 179],\n",
       "        [185, 187, 181],\n",
       "        [  0, 255,   0]],\n",
       "\n",
       "       [[  0, 255,   0],\n",
       "        [  0, 255,   0],\n",
       "        [  0, 255,   0],\n",
       "        ...,\n",
       "        [  0, 255,   0],\n",
       "        [  0, 255,   0],\n",
       "        [  0, 255,   0]]], dtype=uint8)"
      ]
     },
     "execution_count": 35,
     "metadata": {},
     "output_type": "execute_result"
    }
   ],
   "source": [
    "num_contours, hierarchy=cv2.findContours(adaptive_threshold,mode=cv2.RETR_EXTERNAL,method=cv2.CHAIN_APPROX_NONE)\n",
    "cv2.drawContours(img0, num_contours, -1, (0,255,0), 1)"
   ]
  },
  {
   "cell_type": "code",
   "execution_count": 1,
   "metadata": {},
   "outputs": [
    {
     "data": {
      "text/plain": [
       "113"
      ]
     },
     "execution_count": 1,
     "metadata": {},
     "output_type": "execute_result"
    }
   ],
   "source": [
    "import cv2\n",
    "import numpy as np\n",
    "\n",
    "# read image\n",
    "img = cv2.imread(\"./test/car3.jpg\")\n",
    "hh, ww = img.shape[:2]\n",
    "\n",
    "# shave off 3 pixels all around to remove outer white border\n",
    "img = img[3:hh-3, 3:ww-3]\n",
    "\n",
    "# pad 3 black pixels back all around plus another 10 all around as buffer for later morphology\n",
    "img = cv2.copyMakeBorder(img, 13,13,13,13, cv2.BORDER_CONSTANT, (0,0,0))\n",
    "\n",
    "# convert img to grayscale\n",
    "gray = cv2.cvtColor(img, cv2.COLOR_BGR2GRAY)\n",
    "\n",
    "# threshold\n",
    "thresh = cv2.threshold(gray,0,255,cv2.THRESH_BINARY)[1]\n",
    "\n",
    "# apply morphology to remove small black spots\n",
    "kernel = cv2.getStructuringElement(cv2.MORPH_ELLIPSE, (7,7))\n",
    "thresh = cv2.morphologyEx(thresh, cv2.MORPH_CLOSE, kernel)\n",
    "hh2, ww2 = thresh.shape[:2]\n",
    "\n",
    "# shave off 10 pixels all around\n",
    "thresh = thresh[10:hh2-10, 10:ww2-10]\n",
    "\n",
    "# get largest outer contour\n",
    "cnts = cv2.findContours(thresh, cv2.RETR_EXTERNAL, cv2.CHAIN_APPROX_SIMPLE)\n",
    "cnts = cnts[0] if len(cnts) == 2 else cnts[1]\n",
    "big_contour = max(cnts, key=cv2.contourArea)\n",
    "\n",
    "# draw filled contour on black background\n",
    "mask = np.zeros_like(thresh)\n",
    "cv2.drawContours(mask, [big_contour], -1, (255), cv2.FILLED)\n",
    "\n",
    "# use mask to make outside of thresholded license into white\n",
    "# put white in result where mask is black\n",
    "result = thresh.copy()\n",
    "result[mask == 0] = 255\n",
    "\n",
    "# write results\n",
    "cv2.imwrite(\"license2_thresh.png\", thresh)\n",
    "cv2.imwrite(\"license2_mask.png\", mask)\n",
    "cv2.imwrite(\"license2_result.png\", result)\n",
    "\n",
    "# display it\n",
    "cv2.imshow(\"thresh\", thresh)\n",
    "cv2.imshow(\"mask\", mask)\n",
    "cv2.imshow(\"result\", result)\n",
    "cv2.waitKey(0)"
   ]
  },
  {
   "cell_type": "code",
   "execution_count": 2,
   "metadata": {},
   "outputs": [],
   "source": [
    "import cv2\n",
    "\n",
    "img=cv2.imread(\"./test/car3.jpg\")\n",
    "img = cv2.cvtColor(img, cv2.COLOR_BGR2GRAY)\n",
    "(thresh, imgPB) = cv2.threshold(img, 156, 255, cv2.THRESH_BINARY)\n",
    "kernel = cv2.getStructuringElement(cv2.MORPH_ELLIPSE, (1, 2))\n",
    "imgPB = cv2.morphologyEx(imgPB, cv2.MORPH_OPEN, kernel)\n",
    "#imgRoi = imgPB[y:y + h, x:x + w]\n",
    "show_image(imgPB)"
   ]
  },
  {
   "cell_type": "code",
   "execution_count": null,
   "metadata": {},
   "outputs": [],
   "source": []
  }
 ],
 "metadata": {
  "kernelspec": {
   "display_name": "Python (yolov)",
   "language": "python",
   "name": "yolov5"
  },
  "language_info": {
   "codemirror_mode": {
    "name": "ipython",
    "version": 3
   },
   "file_extension": ".py",
   "mimetype": "text/x-python",
   "name": "python",
   "nbconvert_exporter": "python",
   "pygments_lexer": "ipython3",
   "version": "3.8.0"
  }
 },
 "nbformat": 4,
 "nbformat_minor": 2
}
